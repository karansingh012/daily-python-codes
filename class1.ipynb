{
 "cells": [
  {
   "cell_type": "code",
   "execution_count": 1,
   "id": "fa371242",
   "metadata": {},
   "outputs": [
    {
     "name": "stdout",
     "output_type": "stream",
     "text": [
      "Twinkle twinkle little star.\n",
      "How I wonder what you are.\n",
      "Up above the world so high.\n",
      "Like a diamond in the sky.\n",
      "Twinkle twinkle little star.\n",
      "How I wonder what you are.\n",
      "\n",
      "Twinkle twinkle little star.\n",
      "How I wonder what you are.\n",
      "Up above the world so high.\n",
      "Like a diamond in the sky.\n",
      "Twinkle twinkle little star.\n",
      "How I wonder what you are.\n"
     ]
    }
   ],
   "source": [
    "print('''Twinkle twinkle little star.\n",
    "How I wonder what you are.\n",
    "Up above the world so high.\n",
    "Like a diamond in the sky.\n",
    "Twinkle twinkle little star.\n",
    "How I wonder what you are.\n",
    "\n",
    "Twinkle twinkle little star.\n",
    "How I wonder what you are.\n",
    "Up above the world so high.\n",
    "Like a diamond in the sky.\n",
    "Twinkle twinkle little star.\n",
    "How I wonder what you are.''')"
   ]
  },
  {
   "cell_type": "code",
   "execution_count": 20,
   "id": "a9a3208b",
   "metadata": {},
   "outputs": [],
   "source": [
    "import pyttsx3\n",
    "engine = pyttsx3.init()\n",
    "engine.say('''Twinkle twinkle little star.\n",
    "How I wonder what you are.\n",
    "Up above the world so high.\n",
    "Like a diamond in the sky.\n",
    "Twinkle twinkle little star.\n",
    "How I wonder what you are.''')\n",
    "engine.runAndWait()"
   ]
  },
  {
   "cell_type": "code",
   "execution_count": 21,
   "id": "4dac3d59",
   "metadata": {},
   "outputs": [],
   "source": [
    "import pyttsx3\n",
    "engine = pyttsx3.init()\n",
    "engine.say('''Twinkle twinkle little star.\n",
    "How I wonder what you are.\n",
    "Up above the world so high.\n",
    "Like a diamond in the sky.\n",
    "Twinkle twinkle little star.\n",
    "How I wonder what you are.''')\n",
    "engine.runAndWait()"
   ]
  }
 ],
 "metadata": {
  "kernelspec": {
   "display_name": "Python 3",
   "language": "python",
   "name": "python3"
  },
  "language_info": {
   "codemirror_mode": {
    "name": "ipython",
    "version": 3
   },
   "file_extension": ".py",
   "mimetype": "text/x-python",
   "name": "python",
   "nbconvert_exporter": "python",
   "pygments_lexer": "ipython3",
   "version": "3.14.0"
  }
 },
 "nbformat": 4,
 "nbformat_minor": 5
}
