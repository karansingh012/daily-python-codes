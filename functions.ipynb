{
 "cells": [
  {
   "cell_type": "markdown",
   "id": "8fd182b6",
   "metadata": {},
   "source": [
    "# Small Functions / Modules"
   ]
  },
  {
   "cell_type": "code",
   "execution_count": 1,
   "id": "c4dd32cf",
   "metadata": {},
   "outputs": [],
   "source": [
    "def greet(name):\n",
    "    return f\"Hello {name}!\"\n",
    "\n",
    "def square(n):\n",
    "    return n**2\n"
   ]
  }
 ],
 "metadata": {
  "kernelspec": {
   "display_name": "Python 3",
   "language": "python",
   "name": "python3"
  },
  "language_info": {
   "codemirror_mode": {
    "name": "ipython",
    "version": 3
   },
   "file_extension": ".py",
   "mimetype": "text/x-python",
   "name": "python",
   "nbconvert_exporter": "python",
   "pygments_lexer": "ipython3",
   "version": "3.14.0"
  }
 },
 "nbformat": 4,
 "nbformat_minor": 5
}
