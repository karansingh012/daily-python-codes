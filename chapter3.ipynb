{
 "cells": [
  {
   "cell_type": "markdown",
   "id": "3115a057",
   "metadata": {},
   "source": [
    "# Strings"
   ]
  },
  {
   "cell_type": "code",
   "execution_count": null,
   "id": "921b52ab",
   "metadata": {},
   "outputs": [],
   "source": [
    "#We can write a string in three ways \n",
    "\n",
    "a = \"karan\" # Single quoted string\n",
    "a = 'karan' # double quoted string\n",
    "a = '''karan''' #Triple qoted string"
   ]
  },
  {
   "cell_type": "code",
   "execution_count": 3,
   "id": "18cc9522",
   "metadata": {},
   "outputs": [
    {
     "name": "stdout",
     "output_type": "stream",
     "text": [
      "Kar\n"
     ]
    }
   ],
   "source": [
    "#Slicing \n",
    "a = \"Karan\"\n",
    "name = a[0:3]\n",
    "print(name)"
   ]
  },
  {
   "cell_type": "code",
   "execution_count": 5,
   "id": "0ebebf72",
   "metadata": {},
   "outputs": [
    {
     "name": "stdout",
     "output_type": "stream",
     "text": [
      "ara\n"
     ]
    }
   ],
   "source": [
    "#Negative slicing \n",
    "a = \"Karan\"\n",
    "name = a[-4:-1] #is same as [1:4]\n",
    "print(name)"
   ]
  },
  {
   "cell_type": "code",
   "execution_count": 12,
   "id": "70b79956",
   "metadata": {},
   "outputs": [
    {
     "name": "stdout",
     "output_type": "stream",
     "text": [
      "mzn\n"
     ]
    }
   ],
   "source": [
    "#slicing with skip value \n",
    "Word = \"amazing\"\n",
    "name = Word[1:6:2]#\"mzn\"\n",
    "print(name)"
   ]
  },
  {
   "cell_type": "code",
   "execution_count": null,
   "id": "28bcb941",
   "metadata": {},
   "outputs": [
    {
     "name": "stdout",
     "output_type": "stream",
     "text": [
      "amazing\n",
      "amazing\n"
     ]
    }
   ],
   "source": [
    "#other advanced slicing techniques :\n",
    "Word = \"amazing\"\n",
    "t = Word[ :7] # word [0:7] - 'amazing'\n",
    "print(t)\n",
    "k = Word[0:] #word [0:7] - 'amazing'\n",
    "print(k)"
   ]
  },
  {
   "cell_type": "code",
   "execution_count": null,
   "id": "3c1470c8",
   "metadata": {},
   "outputs": [
    {
     "name": "stdout",
     "output_type": "stream",
     "text": [
      "5\n"
     ]
    },
    {
     "ename": "AttributeError",
     "evalue": "'str' object has no attribute 'endwith'",
     "output_type": "error",
     "traceback": [
      "\u001b[31m---------------------------------------------------------------------------\u001b[39m",
      "\u001b[31mAttributeError\u001b[39m                            Traceback (most recent call last)",
      "\u001b[36mCell\u001b[39m\u001b[36m \u001b[39m\u001b[32mIn[16]\u001b[39m\u001b[32m, line 3\u001b[39m\n\u001b[32m      1\u001b[39m name = \u001b[33m\"\u001b[39m\u001b[33mkaran\u001b[39m\u001b[33m\"\u001b[39m\n\u001b[32m      2\u001b[39m \u001b[38;5;28mprint\u001b[39m(\u001b[38;5;28mlen\u001b[39m(name))\n\u001b[32m----> \u001b[39m\u001b[32m3\u001b[39m \u001b[38;5;28mprint\u001b[39m(\u001b[43mname\u001b[49m\u001b[43m.\u001b[49m\u001b[43mendwith\u001b[49m(\u001b[33m\"\u001b[39m\u001b[33mran\u001b[39m\u001b[33m\"\u001b[39m))\n\u001b[32m      4\u001b[39m \u001b[38;5;28mprint\u001b[39m(name.startwith(\u001b[33m\"\u001b[39m\u001b[33mkar\u001b[39m\u001b[33m\"\u001b[39m))\n",
      "\u001b[31mAttributeError\u001b[39m: 'str' object has no attribute 'endwith'"
     ]
    }
   ],
   "source": [
    "name = \"karan\"\n",
    "print(len(name))\n",
    "print(name.endswith(\"ran\"))\n",
    "print(name.startswith(\"kar\"))"
   ]
  },
  {
   "cell_type": "code",
   "execution_count": null,
   "id": "271a001f",
   "metadata": {},
   "outputs": [],
   "source": []
  }
 ],
 "metadata": {
  "kernelspec": {
   "display_name": "Python 3",
   "language": "python",
   "name": "python3"
  },
  "language_info": {
   "codemirror_mode": {
    "name": "ipython",
    "version": 3
   },
   "file_extension": ".py",
   "mimetype": "text/x-python",
   "name": "python",
   "nbconvert_exporter": "python",
   "pygments_lexer": "ipython3",
   "version": "3.14.0"
  }
 },
 "nbformat": 4,
 "nbformat_minor": 5
}
