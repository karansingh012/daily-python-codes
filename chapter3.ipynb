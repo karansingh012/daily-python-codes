{
 "cells": [
  {
   "cell_type": "markdown",
   "id": "3115a057",
   "metadata": {},
   "source": [
    "# Strings"
   ]
  },
  {
   "cell_type": "code",
   "execution_count": null,
   "id": "921b52ab",
   "metadata": {},
   "outputs": [],
   "source": [
    "#We can write a string in three ways \n",
    "\n",
    "a = \"karan\" # Single quoted string\n",
    "a = 'karan' # double quoted string\n",
    "a = '''karan''' #Triple qoted string"
   ]
  },
  {
   "cell_type": "code",
   "execution_count": 3,
   "id": "18cc9522",
   "metadata": {},
   "outputs": [
    {
     "name": "stdout",
     "output_type": "stream",
     "text": [
      "Kar\n"
     ]
    }
   ],
   "source": [
    "#Slicing \n",
    "a = \"Karan\"\n",
    "name = a[0:3]\n",
    "print(name)"
   ]
  },
  {
   "cell_type": "code",
   "execution_count": 5,
   "id": "0ebebf72",
   "metadata": {},
   "outputs": [
    {
     "name": "stdout",
     "output_type": "stream",
     "text": [
      "ara\n"
     ]
    }
   ],
   "source": [
    "#Negative slicing \n",
    "a = \"Karan\"\n",
    "name = a[-4:-1] #is same as [1:4]\n",
    "print(name)"
   ]
  },
  {
   "cell_type": "code",
   "execution_count": 12,
   "id": "70b79956",
   "metadata": {},
   "outputs": [
    {
     "name": "stdout",
     "output_type": "stream",
     "text": [
      "mzn\n"
     ]
    }
   ],
   "source": [
    "#slicing with skip value \n",
    "Word = \"amazing\"\n",
    "name = Word[1:6:2]#\"mzn\"\n",
    "print(name)"
   ]
  },
  {
   "cell_type": "code",
   "execution_count": 13,
   "id": "28bcb941",
   "metadata": {},
   "outputs": [
    {
     "name": "stdout",
     "output_type": "stream",
     "text": [
      "amazing\n",
      "amazing\n"
     ]
    }
   ],
   "source": [
    "#other slicing techniques :\n",
    "Word = \"amazing\"\n",
    "t = Word[ :7] # word [0:7] - 'amazing'\n",
    "print(t)\n",
    "k = Word[0:] #word [0:7] - 'amazing'\n",
    "print(k)"
   ]
  },
  {
   "cell_type": "code",
   "execution_count": null,
   "id": "3c1470c8",
   "metadata": {},
   "outputs": [],
   "source": []
  }
 ],
 "metadata": {
  "kernelspec": {
   "display_name": "Python 3",
   "language": "python",
   "name": "python3"
  },
  "language_info": {
   "codemirror_mode": {
    "name": "ipython",
    "version": 3
   },
   "file_extension": ".py",
   "mimetype": "text/x-python",
   "name": "python",
   "nbconvert_exporter": "python",
   "pygments_lexer": "ipython3",
   "version": "3.14.0"
  }
 },
 "nbformat": 4,
 "nbformat_minor": 5
}
