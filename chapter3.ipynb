{
 "cells": [
  {
   "cell_type": "markdown",
   "id": "3115a057",
   "metadata": {},
   "source": [
    "# Strings"
   ]
  },
  {
   "cell_type": "code",
   "execution_count": null,
   "id": "921b52ab",
   "metadata": {},
   "outputs": [],
   "source": [
    "#We can write a string in three ways \n",
    "\n",
    "a = \"karan\" # Single quoted string\n",
    "a = 'karan' # double quoted string\n",
    "a = '''karan''' #Triple qoted string"
   ]
  },
  {
   "cell_type": "code",
   "execution_count": 3,
   "id": "18cc9522",
   "metadata": {},
   "outputs": [
    {
     "name": "stdout",
     "output_type": "stream",
     "text": [
      "Kar\n"
     ]
    }
   ],
   "source": [
    "#Slicing \n",
    "a = \"Karan\"\n",
    "name = a[0:3]\n",
    "print(name)"
   ]
  },
  {
   "cell_type": "code",
   "execution_count": 5,
   "id": "0ebebf72",
   "metadata": {},
   "outputs": [
    {
     "name": "stdout",
     "output_type": "stream",
     "text": [
      "ara\n"
     ]
    }
   ],
   "source": [
    "#Negative slicing \n",
    "a = \"Karan\"\n",
    "name = a[-4:-1] #is same as [1:4]\n",
    "print(name)"
   ]
  },
  {
   "cell_type": "code",
   "execution_count": 12,
   "id": "70b79956",
   "metadata": {},
   "outputs": [
    {
     "name": "stdout",
     "output_type": "stream",
     "text": [
      "mzn\n"
     ]
    }
   ],
   "source": [
    "#slicing with skip value \n",
    "Word = \"amazing\"\n",
    "name = Word[1:6:2]#\"mzn\"\n",
    "print(name)"
   ]
  },
  {
   "cell_type": "code",
   "execution_count": null,
   "id": "28bcb941",
   "metadata": {},
   "outputs": [
    {
     "name": "stdout",
     "output_type": "stream",
     "text": [
      "amazing\n",
      "amazing\n"
     ]
    }
   ],
   "source": [
    "#other advanced slicing techniques :\n",
    "Word = \"amazing\"\n",
    "t = Word[ :7] # word [0:7] - 'amazing'\n",
    "print(t)\n",
    "k = Word[0:] #word [0:7] - 'amazing'\n",
    "print(k)"
   ]
  },
  {
   "cell_type": "code",
   "execution_count": null,
   "id": "3c1470c8",
   "metadata": {},
   "outputs": [
    {
     "name": "stdout",
     "output_type": "stream",
     "text": [
      "5\n",
      "True\n",
      "True\n",
      "Karan\n"
     ]
    }
   ],
   "source": [
    "name = \"karan\"\n",
    "print(len(name))\n",
    "print(name.endswith(\"ran\"))\n",
    "print(name.startswith(\"kar\"))\n",
    "print(name.capitalize()) #use chatgpt\n"
   ]
  },
  {
   "cell_type": "code",
   "execution_count": 19,
   "id": "271a001f",
   "metadata": {},
   "outputs": [
    {
     "name": "stdout",
     "output_type": "stream",
     "text": [
      "11\n"
     ]
    }
   ],
   "source": [
    "name = \"karan singh\"\n",
    "print(len(name))\n"
   ]
  },
  {
   "cell_type": "code",
   "execution_count": 2,
   "id": "43abb93e",
   "metadata": {},
   "outputs": [
    {
     "name": "stdout",
     "output_type": "stream",
     "text": [
      "Reversed string: doog\n"
     ]
    }
   ],
   "source": [
    "# 1. Reverse a String\n",
    "s = input(\"Enter a string: \")\n",
    "print(\"Reversed string:\", s[::-1])\n"
   ]
  },
  {
   "cell_type": "code",
   "execution_count": 3,
   "id": "108495c2",
   "metadata": {},
   "outputs": [
    {
     "name": "stdout",
     "output_type": "stream",
     "text": [
      "Not a palindrome\n"
     ]
    }
   ],
   "source": [
    "#2. Check if String is Palindrome\n",
    "s = input(\"Enter a string: \")\n",
    "if s == s[::-1]:\n",
    "    print(\"Palindrome\")\n",
    "else:\n",
    "    print(\"Not a palindrome\")\n"
   ]
  },
  {
   "cell_type": "code",
   "execution_count": 4,
   "id": "a3aa169a",
   "metadata": {},
   "outputs": [
    {
     "name": "stdout",
     "output_type": "stream",
     "text": [
      "Vowels: 2\n",
      "Consonants: 3\n"
     ]
    }
   ],
   "source": [
    "# 3. Count Vowels and Consonants\n",
    "s = input(\"Enter a string: \").lower()\n",
    "vowels = \"aeiou\"\n",
    "v = c = 0\n",
    "for ch in s:\n",
    "    if ch.isalpha():\n",
    "        if ch in vowels:\n",
    "            v += 1\n",
    "        else:\n",
    "            c += 1\n",
    "print(\"Vowels:\", v)\n",
    "print(\"Consonants:\", c)\n"
   ]
  },
  {
   "cell_type": "code",
   "execution_count": 5,
   "id": "4e95eec8",
   "metadata": {},
   "outputs": [
    {
     "name": "stdout",
     "output_type": "stream",
     "text": [
      "Uppercase: KARAN\n",
      "Lowercase: karan\n"
     ]
    }
   ],
   "source": [
    "#4. Convert to Uppercase and Lowercase\n",
    "s = input(\"Enter a string: \")\n",
    "print(\"Uppercase:\", s.upper())\n",
    "print(\"Lowercase:\", s.lower())\n"
   ]
  },
  {
   "cell_type": "code",
   "execution_count": null,
   "id": "2fb72371",
   "metadata": {},
   "outputs": [],
   "source": []
  }
 ],
 "metadata": {
  "kernelspec": {
   "display_name": "Python 3",
   "language": "python",
   "name": "python3"
  },
  "language_info": {
   "codemirror_mode": {
    "name": "ipython",
    "version": 3
   },
   "file_extension": ".py",
   "mimetype": "text/x-python",
   "name": "python",
   "nbconvert_exporter": "python",
   "pygments_lexer": "ipython3",
   "version": "3.14.0"
  }
 },
 "nbformat": 4,
 "nbformat_minor": 5
}
