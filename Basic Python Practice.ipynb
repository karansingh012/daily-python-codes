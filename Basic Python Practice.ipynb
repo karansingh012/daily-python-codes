{
 "cells": [
  {
   "cell_type": "code",
   "execution_count": 4,
   "id": "002f9e40",
   "metadata": {},
   "outputs": [
    {
     "name": "stdout",
     "output_type": "stream",
     "text": [
      "Sum: 24\n"
     ]
    }
   ],
   "source": [
    "# 1. Sum of two numbers\n",
    "a = int(input(\"Enter first number: \"))\n",
    "b = int(input(\"Enter second number: \"))\n",
    "print(\"Sum:\", a + b)"
   ]
  },
  {
   "cell_type": "code",
   "execution_count": 3,
   "id": "5fc240e8",
   "metadata": {},
   "outputs": [
    {
     "name": "stdout",
     "output_type": "stream",
     "text": [
      "Odd\n"
     ]
    }
   ],
   "source": [
    "# 2. Odd or Even\n",
    "num = int(input(\"Enter a number: \"))\n",
    "if num % 2 == 0:\n",
    "    print(\"Even\")\n",
    "else:\n",
    "    print(\"Odd\")"
   ]
  },
  {
   "cell_type": "code",
   "execution_count": 6,
   "id": "17a89350",
   "metadata": {},
   "outputs": [
    {
     "name": "stdout",
     "output_type": "stream",
     "text": [
      "Factorial: 24\n"
     ]
    }
   ],
   "source": [
    "# 3. Factorial using loop\n",
    "n = int(input(\"Enter a number: \"))\n",
    "fact = 1\n",
    "for i in range(1, n+1):\n",
    "    fact *= i\n",
    "print(\"Factorial:\", fact)"
   ]
  },
  {
   "cell_type": "code",
   "execution_count": null,
   "id": "09816676",
   "metadata": {},
   "outputs": [
    {
     "name": "stdout",
     "output_type": "stream",
     "text": [
      "Enter first number:  12\n",
      "Enter second number:  5\n",
      "remainder when a is divided by b is  2\n"
     ]
    }
   ],
   "source": [
    "# 4. Write a python program to find remainder when a number is diviedby by z.\n",
    "a = int(input(\"Enter first number: \"))\n",
    "print(\"Enter first number: \",a)\n",
    "b = int(input(\"Enter second number: \"))\n",
    "print(\"Enter second number: \",b)\n",
    "print(\"remainder when a is divided by b is \",a % b)"
   ]
  },
  {
   "cell_type": "code",
   "execution_count": 4,
   "id": "328aeeaa",
   "metadata": {},
   "outputs": [
    {
     "name": "stdout",
     "output_type": "stream",
     "text": [
      "Enter the value of a:  12\n",
      "<class 'str'>\n"
     ]
    }
   ],
   "source": [
    "# 5. Type casting\n",
    "a = input(\"Enter the value of a: \")\n",
    "print(\"Enter the value of a: \",a)\n",
    "print(type(a))"
   ]
  },
  {
   "cell_type": "code",
   "execution_count": null,
   "id": "13258d0b",
   "metadata": {},
   "outputs": [],
   "source": []
  }
 ],
 "metadata": {
  "kernelspec": {
   "display_name": "Python 3",
   "language": "python",
   "name": "python3"
  },
  "language_info": {
   "codemirror_mode": {
    "name": "ipython",
    "version": 3
   },
   "file_extension": ".py",
   "mimetype": "text/x-python",
   "name": "python",
   "nbconvert_exporter": "python",
   "pygments_lexer": "ipython3",
   "version": "3.14.0"
  }
 },
 "nbformat": 4,
 "nbformat_minor": 5
}
