{
 "cells": [
  {
   "cell_type": "code",
   "execution_count": 1,
   "id": "2a6a1f96",
   "metadata": {},
   "outputs": [
    {
     "name": "stdout",
     "output_type": "stream",
     "text": [
      "Sum is: 24\n"
     ]
    }
   ],
   "source": [
    "#Question 1: Function to add two numbers\n",
    "def add_numbers(a, b):\n",
    "    return a + b\n",
    "\n",
    "x = int(input(\"Enter first number: \"))\n",
    "y = int(input(\"Enter second number: \"))\n",
    "print(\"Sum is:\", add_numbers(x, y))\n"
   ]
  },
  {
   "cell_type": "code",
   "execution_count": 2,
   "id": "8534ced9",
   "metadata": {},
   "outputs": [
    {
     "name": "stdout",
     "output_type": "stream",
     "text": [
      "12 is Even\n"
     ]
    }
   ],
   "source": [
    "#Question 2: Function to check even or odd\n",
    "def check_even_odd(num):\n",
    "    if num % 2 == 0:\n",
    "        print(num, \"is Even\")\n",
    "    else:\n",
    "        print(num, \"is Odd\")\n",
    "\n",
    "n = int(input(\"Enter a number: \"))\n",
    "check_even_odd(n)\n"
   ]
  },
  {
   "cell_type": "code",
   "execution_count": 3,
   "id": "6f01d284",
   "metadata": {},
   "outputs": [
    {
     "name": "stdout",
     "output_type": "stream",
     "text": [
      "Square is: 144\n"
     ]
    }
   ],
   "source": [
    "# Question 3: Function to find square of a number\n",
    "def square(num):\n",
    "    return num * num\n",
    "\n",
    "n = int(input(\"Enter a number: \"))\n",
    "print(\"Square is:\", square(n))\n"
   ]
  },
  {
   "cell_type": "code",
   "execution_count": 4,
   "id": "619c9fc9",
   "metadata": {},
   "outputs": [
    {
     "name": "stdout",
     "output_type": "stream",
     "text": [
      "Factorial is: 479001600\n"
     ]
    }
   ],
   "source": [
    "# Question 4: Function to find factorial of a number\n",
    "def factorial(n):\n",
    "    fact = 1\n",
    "    for i in range(1, n + 1):\n",
    "        fact *= i\n",
    "    return fact\n",
    "\n",
    "num = int(input(\"Enter a number: \"))\n",
    "print(\"Factorial is:\", factorial(num))\n"
   ]
  },
  {
   "cell_type": "code",
   "execution_count": null,
   "id": "a6470419",
   "metadata": {},
   "outputs": [],
   "source": []
  }
 ],
 "metadata": {
  "kernelspec": {
   "display_name": "Python 3",
   "language": "python",
   "name": "python3"
  },
  "language_info": {
   "codemirror_mode": {
    "name": "ipython",
    "version": 3
   },
   "file_extension": ".py",
   "mimetype": "text/x-python",
   "name": "python",
   "nbconvert_exporter": "python",
   "pygments_lexer": "ipython3",
   "version": "3.14.0"
  }
 },
 "nbformat": 4,
 "nbformat_minor": 5
}
